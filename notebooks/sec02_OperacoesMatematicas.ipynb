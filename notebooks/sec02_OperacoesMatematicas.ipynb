{
  "nbformat": 4,
  "nbformat_minor": 0,
  "metadata": {
    "colab": {
      "name": "sec02_OperacoesMatematicas.ipynb",
      "provenance": [],
      "collapsed_sections": []
    },
    "kernelspec": {
      "name": "python3",
      "display_name": "Python 3"
    }
  },
  "cells": [
    {
      "cell_type": "markdown",
      "metadata": {
        "id": "ccOF3mZuNnJC",
        "colab_type": "text"
      },
      "source": [
        "![image_dna](https://raw.githubusercontent.com/joabsantanna/python_Problemas-Biologicos/master/imgs/478921919-1.png)"
      ]
    },
    {
      "cell_type": "markdown",
      "metadata": {
        "id": "cG4W8Q3i0a6q",
        "colab_type": "text"
      },
      "source": [
        "# EXERCÍCIO SEÇÃO 2 \n",
        "## Operações Matemáticas - Variáveis, operadores aritméticos e imputs do usuário.\n",
        "___\n"
      ]
    },
    {
      "cell_type": "markdown",
      "metadata": {
        "id": "QiMCSlDt30o8",
        "colab_type": "text"
      },
      "source": [
        "# Exercício 01 - Cálculo do Ki\n",
        "\n",
        "* Faça um programa que calcula o Ki, que é a constante de inibição no contexto de um ensaio de inibição enzimática. Em seguida, o programa deve imprimir o Ki na tela.\n",
        "\n",
        "\n"
      ]
    },
    {
      "cell_type": "markdown",
      "metadata": {
        "id": "h6IY9JzhYIxI",
        "colab_type": "text"
      },
      "source": [
        "**Inputs do usuário**"
      ]
    },
    {
      "cell_type": "code",
      "metadata": {
        "id": "RXYkYRhI_xDz",
        "colab_type": "code",
        "colab": {
          "base_uri": "https://localhost:8080/",
          "height": 35
        },
        "outputId": "25984d07-123d-4e8a-a1a7-3e7e5bc6c005"
      },
      "source": [
        "IC50 = float(input('Digite o valor de IC50: '))"
      ],
      "execution_count": null,
      "outputs": [
        {
          "output_type": "stream",
          "text": [
            "Digite o valor de IC50: 3.44\n"
          ],
          "name": "stdout"
        }
      ]
    },
    {
      "cell_type": "code",
      "metadata": {
        "id": "HMlD0qzYYdXP",
        "colab_type": "code",
        "colab": {
          "base_uri": "https://localhost:8080/",
          "height": 35
        },
        "outputId": "2b963aa8-cf13-4348-85b7-29c568ce96c4"
      },
      "source": [
        "S = float(input('Concentração do substrato: '))"
      ],
      "execution_count": null,
      "outputs": [
        {
          "output_type": "stream",
          "text": [
            "Concentração do substrato: 0.043\n"
          ],
          "name": "stdout"
        }
      ]
    },
    {
      "cell_type": "code",
      "metadata": {
        "id": "FQhk3yDsZJmn",
        "colab_type": "code",
        "colab": {
          "base_uri": "https://localhost:8080/",
          "height": 35
        },
        "outputId": "077432f1-0a62-4e47-d169-0bc7e881b171"
      },
      "source": [
        "Km = float(input('Constante de Michaelis: '))"
      ],
      "execution_count": null,
      "outputs": [
        {
          "output_type": "stream",
          "text": [
            "Constante de Michaelis: 0.023\n"
          ],
          "name": "stdout"
        }
      ]
    },
    {
      "cell_type": "markdown",
      "metadata": {
        "id": "atfiF0W16aly",
        "colab_type": "text"
      },
      "source": [
        "## Fórmula do Ki\n",
        "\n",
        "![picture](https://ard.bmj.com/sites/default/files/highwire/annrheumdis/68/7/1201/embed/graphic-2.gif)"
      ]
    },
    {
      "cell_type": "code",
      "metadata": {
        "id": "UJrs0j3wZZKN",
        "colab_type": "code",
        "colab": {
          "base_uri": "https://localhost:8080/",
          "height": 35
        },
        "outputId": "f77f05fa-b967-4df2-f730-b6c08fed93e0"
      },
      "source": [
        "Ki = (IC50/(1 + (S/Km)))\n",
        "Ki"
      ],
      "execution_count": null,
      "outputs": [
        {
          "output_type": "execute_result",
          "data": {
            "text/plain": [
              "1.1987878787878787"
            ]
          },
          "metadata": {
            "tags": []
          },
          "execution_count": 18
        }
      ]
    },
    {
      "cell_type": "markdown",
      "metadata": {
        "id": "_p1cNQxJZvh3",
        "colab_type": "text"
      },
      "source": [
        "**Imprimindo o valor de Ki na tela**"
      ]
    },
    {
      "cell_type": "code",
      "metadata": {
        "id": "eEfjV_fMZ03D",
        "colab_type": "code",
        "colab": {
          "base_uri": "https://localhost:8080/",
          "height": 35
        },
        "outputId": "d387f497-5009-4696-f40b-d2a87925c5f2"
      },
      "source": [
        "print('O valor da constante de inibição é:', round(Ki, 3))"
      ],
      "execution_count": null,
      "outputs": [
        {
          "output_type": "stream",
          "text": [
            "O valor da constante de inibição é: 1.199\n"
          ],
          "name": "stdout"
        }
      ]
    },
    {
      "cell_type": "markdown",
      "metadata": {
        "id": "xUA-hPSae-Q4",
        "colab_type": "text"
      },
      "source": [
        "**Programa Final**"
      ]
    },
    {
      "cell_type": "code",
      "metadata": {
        "id": "Ra6JKxPleeaq",
        "colab_type": "code",
        "colab": {
          "base_uri": "https://localhost:8080/",
          "height": 88
        },
        "outputId": "327694bd-9844-43e1-b631-cb49bda13959"
      },
      "source": [
        "IC50 = float(input('Digite o valor de IC50: '))\n",
        "S = float(input('Concentração do substrato: '))\n",
        "Km = float(input('Constante de Michaelis: '))\n",
        "\n",
        "Ki = (IC50/(1 + (S/Km)))\n",
        "print('O valor da constante de inibição é:', round(Ki, 3))"
      ],
      "execution_count": null,
      "outputs": [
        {
          "output_type": "stream",
          "text": [
            "Digite o valor de IC50: 3.44\n",
            "Concentração do substrato: 0.043\n",
            "Constante de Michaelis: 0.023\n",
            "O valor da constante de inibição é: 1.199\n"
          ],
          "name": "stdout"
        }
      ]
    },
    {
      "cell_type": "markdown",
      "metadata": {
        "id": "g3-Ps5W46iTF",
        "colab_type": "text"
      },
      "source": [
        "# Exercício 02 - Função, Frequência, Recombinantes.\n",
        "\n",
        "* Um genótipo ABab gera quatro gametas: AB, ab,Ab, aB, sendo que desses, aB e Ab são gametas recombinantes. Por meio de 4 entradas do usuário, determine a frequência de recombinação e estime a distância gênica em morganídeos\n",
        "\n",
        "\n",
        "\n",
        "\n"
      ]
    },
    {
      "cell_type": "markdown",
      "metadata": {
        "id": "31h6DPBFUfDw",
        "colab_type": "text"
      },
      "source": [
        "**Numero de gametas recombinantes**\n"
      ]
    },
    {
      "cell_type": "code",
      "metadata": {
        "id": "W00ct1TXU35L",
        "colab_type": "code",
        "colab": {}
      },
      "source": [
        "genrec1 = float(input('Digite o valor da frequência gênica recombinante 1: '))"
      ],
      "execution_count": null,
      "outputs": []
    },
    {
      "cell_type": "code",
      "metadata": {
        "id": "gCGOSjd4U3sl",
        "colab_type": "code",
        "colab": {}
      },
      "source": [
        "genrec2 = float(input('Digite o valor da frequência gênica recombinante 2: '))"
      ],
      "execution_count": null,
      "outputs": []
    },
    {
      "cell_type": "markdown",
      "metadata": {
        "id": "0ZYoSxK5VSGt",
        "colab_type": "text"
      },
      "source": [
        "**Numero de gametas não recombinantes**\n"
      ]
    },
    {
      "cell_type": "code",
      "metadata": {
        "id": "KRPuAVn1Vdsu",
        "colab_type": "code",
        "colab": {}
      },
      "source": [
        "gen_nrec1 = float(input('Digite o valor da frequência gênica não recombinante 1: '))"
      ],
      "execution_count": null,
      "outputs": []
    },
    {
      "cell_type": "code",
      "metadata": {
        "id": "bttXpokGVdio",
        "colab_type": "code",
        "colab": {}
      },
      "source": [
        "gen_nrec2 = float(input('Digite o valor da frequência gênica não recombinante 2: '))"
      ],
      "execution_count": null,
      "outputs": []
    },
    {
      "cell_type": "markdown",
      "metadata": {
        "id": "XBd4gg9bYLlj",
        "colab_type": "text"
      },
      "source": [
        "**Fórmula da frequência de recombinação**\n"
      ]
    },
    {
      "cell_type": "markdown",
      "metadata": {
        "id": "j5D5eJdBXkFN",
        "colab_type": "text"
      },
      "source": [
        "![image.png](data:image/png;base64,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)"
      ]
    },
    {
      "cell_type": "code",
      "metadata": {
        "id": "snYR8YnTYioq",
        "colab_type": "code",
        "colab": {}
      },
      "source": [
        "FR = (genrec1+genrec2)/(genrec1+genrec2+gen_nrec1+gen_nrec2)"
      ],
      "execution_count": null,
      "outputs": []
    },
    {
      "cell_type": "code",
      "metadata": {
        "id": "X4D0qtVtYiTJ",
        "colab_type": "code",
        "colab": {}
      },
      "source": [
        "distancia_estimada = FR*100"
      ],
      "execution_count": null,
      "outputs": []
    },
    {
      "cell_type": "markdown",
      "metadata": {
        "id": "Y9LwA3aAYhqH",
        "colab_type": "text"
      },
      "source": [
        "**Imprimindo na tela a distância estimada entre os genes**\n"
      ]
    },
    {
      "cell_type": "code",
      "metadata": {
        "id": "RyVKHAcfZLJf",
        "colab_type": "code",
        "colab": {}
      },
      "source": [
        "print('A distância estimada entre os genes é de', round(distancia_estimada, 3), 'morganídeos')"
      ],
      "execution_count": null,
      "outputs": []
    },
    {
      "cell_type": "markdown",
      "metadata": {
        "id": "HCoEeGROgXye",
        "colab_type": "text"
      },
      "source": [
        "**Programa Final**"
      ]
    },
    {
      "cell_type": "code",
      "metadata": {
        "id": "vYKeKhoS_loT",
        "colab_type": "code",
        "colab": {}
      },
      "source": [
        "genrec1    = float(input('Digite o valor da frequência gênica recombinante 1: ')) \n",
        "genrec2    = float(input('Digite o valor da frequência gênica recombinante 2: '))\n",
        "gen_nrec1  = float(input('Digite o valor da frequência gênica não recombinante 1: '))\n",
        "gen_nrec2  = float(input('Digite o valor da frequência gênica não recombinante 2: '))\n",
        "\n",
        "FR = (genrec1+genrec2)/(genrec1+genrec2+gen_nrec1+gen_nrec2)\n",
        "print('A distância estimada entre os genes é de', round(distancia_estimada, 3), 'morganídeos')"
      ],
      "execution_count": null,
      "outputs": []
    },
    {
      "cell_type": "markdown",
      "metadata": {
        "id": "Z0xqLj9BbI3I",
        "colab_type": "text"
      },
      "source": [
        "**Conclusão:** Para esse caso a taxa de recombinação é de 15%, baseado na frequência dos genótipos recombinantes e não recombinantes. "
      ]
    },
    {
      "cell_type": "markdown",
      "metadata": {
        "id": "J6bzpeVw8uFD",
        "colab_type": "text"
      },
      "source": [
        "# Exercício 03 - Coleta de Insetos\n",
        "\n",
        "\n",
        "Crie um programa que:\n",
        "\n",
        "a) Pergunte ao usuário quantos espécimes de insetos ele coletou em campo\n",
        "\n",
        "b) Pergunte ao usuário quantos dias durou a coleta\n",
        "\n",
        "c) Imprima na tela a média de espécimes foram coletados por dia\n",
        "\n",
        "\n"
      ]
    },
    {
      "cell_type": "markdown",
      "metadata": {
        "id": "hv5j8nQwl-Eb",
        "colab_type": "text"
      },
      "source": [
        "**Inputs do usuário**"
      ]
    },
    {
      "cell_type": "code",
      "metadata": {
        "id": "yBjx5SdMuJOo",
        "colab_type": "code",
        "colab": {
          "base_uri": "https://localhost:8080/",
          "height": 35
        },
        "outputId": "46bdd47e-6b72-42e2-cee6-cea98720db80"
      },
      "source": [
        "especimes = int(input('Quantos espécimes foram coletados? ')) "
      ],
      "execution_count": null,
      "outputs": [
        {
          "output_type": "stream",
          "text": [
            "Quantos espécimes foram coletados? 135\n"
          ],
          "name": "stdout"
        }
      ]
    },
    {
      "cell_type": "code",
      "metadata": {
        "id": "gL4dKeWNuI7W",
        "colab_type": "code",
        "colab": {
          "base_uri": "https://localhost:8080/",
          "height": 35
        },
        "outputId": "1700ca93-2bf9-40f9-82fc-668a14865244"
      },
      "source": [
        "especimes"
      ],
      "execution_count": null,
      "outputs": [
        {
          "output_type": "execute_result",
          "data": {
            "text/plain": [
              "135"
            ]
          },
          "metadata": {
            "tags": []
          },
          "execution_count": 2
        }
      ]
    },
    {
      "cell_type": "code",
      "metadata": {
        "id": "aq3OA-vvu4QM",
        "colab_type": "code",
        "colab": {
          "base_uri": "https://localhost:8080/",
          "height": 35
        },
        "outputId": "288b07c3-6f97-4816-c12f-dc7bca7510c1"
      },
      "source": [
        "dias_de_coleta = int(input('Quantos dias de campo dutou a coleta? '))"
      ],
      "execution_count": null,
      "outputs": [
        {
          "output_type": "stream",
          "text": [
            "Quantos dias de campo dutou a coleta? 11\n"
          ],
          "name": "stdout"
        }
      ]
    },
    {
      "cell_type": "code",
      "metadata": {
        "id": "PYi73dluvNHk",
        "colab_type": "code",
        "colab": {
          "base_uri": "https://localhost:8080/",
          "height": 35
        },
        "outputId": "3c62d875-23e4-4bd8-b46a-fee3b96609da"
      },
      "source": [
        "dias_de_coleta"
      ],
      "execution_count": null,
      "outputs": [
        {
          "output_type": "execute_result",
          "data": {
            "text/plain": [
              "11"
            ]
          },
          "metadata": {
            "tags": []
          },
          "execution_count": 4
        }
      ]
    },
    {
      "cell_type": "code",
      "metadata": {
        "id": "Ul1rpjUWvygA",
        "colab_type": "code",
        "colab": {}
      },
      "source": [
        "especimes_por_dia = especimes/dias_de_coleta"
      ],
      "execution_count": null,
      "outputs": []
    },
    {
      "cell_type": "code",
      "metadata": {
        "id": "B09ae5LlwHNb",
        "colab_type": "code",
        "colab": {
          "base_uri": "https://localhost:8080/",
          "height": 35
        },
        "outputId": "f204fccb-bb71-4eb1-89be-01c48bc6dcf5"
      },
      "source": [
        "especimes_por_dia"
      ],
      "execution_count": null,
      "outputs": [
        {
          "output_type": "execute_result",
          "data": {
            "text/plain": [
              "12.272727272727273"
            ]
          },
          "metadata": {
            "tags": []
          },
          "execution_count": 6
        }
      ]
    },
    {
      "cell_type": "markdown",
      "metadata": {
        "id": "5PBME0p0l_0L",
        "colab_type": "text"
      },
      "source": [
        "**Imprimindo informaçõa na tela**"
      ]
    },
    {
      "cell_type": "code",
      "metadata": {
        "id": "lW91QKrVwU9C",
        "colab_type": "code",
        "colab": {
          "base_uri": "https://localhost:8080/",
          "height": 35
        },
        "outputId": "e6a9e36d-0165-462a-e355-c064652c0de7"
      },
      "source": [
        "print('A média de espécimes coletados por dia foi de', round(especimes_por_dia, 2))"
      ],
      "execution_count": null,
      "outputs": [
        {
          "output_type": "stream",
          "text": [
            "A média de espécimes coletados por dia foi de 12.27\n"
          ],
          "name": "stdout"
        }
      ]
    },
    {
      "cell_type": "markdown",
      "metadata": {
        "id": "sh8lLwQehuP9",
        "colab_type": "text"
      },
      "source": [
        "**Programa Final**"
      ]
    },
    {
      "cell_type": "code",
      "metadata": {
        "id": "sQkcQxQJ8wm1",
        "colab_type": "code",
        "colab": {
          "base_uri": "https://localhost:8080/",
          "height": 71
        },
        "outputId": "38cb1255-876c-4d28-b359-75873078316a"
      },
      "source": [
        "especimes      = int(input('Quantos espécimes foram coletados? '))\n",
        "dias_de_coleta = int(input('Quantos dias de campo dutou a coleta? '))\n",
        "\n",
        "especimes_por_dia = especimes/dias_de_coleta\n",
        "print('A média de espécimes coletados por dia foi de', round(especimes_por_dia, 2))"
      ],
      "execution_count": null,
      "outputs": [
        {
          "output_type": "stream",
          "text": [
            "Quantos espécimes foram coletados? 135\n",
            "Quantos dias de campo dutou a coleta? 11\n",
            "A média de espécimes coletados por dia foi de 12.27\n"
          ],
          "name": "stdout"
        }
      ]
    }
  ]
}